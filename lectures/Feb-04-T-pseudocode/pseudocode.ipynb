{
 "cells": [
  {
   "cell_type": "markdown",
   "metadata": {},
   "source": [
    "# Pseudocode\n",
    "\n",
    "See https://www.youtube.com/watch?v=4G0EYfrrDT8 for a reasonable introduction to pseudocode.\n",
    "\n",
    "Writing code without thinking of its architecture is useless in the same way as dreaming about your desires without a plan of achieving them. Before writing the first line of code, you should understand what it will be doing, how it will do it, which modules and services it will use and how they will work together, what structure it will have, how it will be tested and debugged, and how it will be updated. - *paraphrased from quote by Andrey Nikishaev*\n"
   ]
  },
  {
   "cell_type": "markdown",
   "metadata": {},
   "source": [
    "---\n",
    "## Bubble Sort Algorithm\n",
    "\n",
    "Sort a list of items by repeatedly swapping pairs of items that are out of order until the list is sorted.\n",
    "\n",
    "But how will you do it? That's the point of pseudocode.\n",
    "\n",
    "![Bubble Sort](images/bubblesort.png)"
   ]
  },
  {
   "cell_type": "markdown",
   "metadata": {},
   "source": [
    "## <font color=red>Exercise</font>"
   ]
  },
  {
   "cell_type": "markdown",
   "metadata": {},
   "source": [
    "1. Write a very brief description of how you will implement the bubble sort algorithm."
   ]
  },
  {
   "cell_type": "raw",
   "metadata": {},
   "source": [
    "Loop through the list and swap each out of order pair of items.\n",
    "Repeat until the list is sorted."
   ]
  },
  {
   "cell_type": "markdown",
   "metadata": {},
   "source": [
    "2. Write pseudocode for the bubble sort algorithm."
   ]
  },
  {
   "cell_type": "raw",
   "metadata": {},
   "source": [
    "WHILE list not sorted\n",
    "    FOR each pair of items in list\n",
    "        IF items out of order\n",
    "            swap items\n",
    "        ENDIF\n",
    "    ENDFOR\n",
    "ENDWHILE"
   ]
  },
  {
   "cell_type": "raw",
   "metadata": {},
   "source": [
    "FUNCTION (list of items)\n",
    "    WHILE the list is not completely sorted\n",
    "        FOR each pair of items in the list\n",
    "            IF the pair is not sorted\n",
    "                swap the pair of items\n",
    "            ENDIF\n",
    "        ENDFOR\n",
    "        IF we had to swap any items\n",
    "            list not sorted yet\n",
    "        ELSE\n",
    "            list is sorted\n",
    "            RETURN\n",
    "        ENDIF\n",
    "    ENDWHILE\n",
    "ENDFUNCTION"
   ]
  },
  {
   "cell_type": "markdown",
   "metadata": {},
   "source": [
    "3. Write a function that implements the bubble sort algorithm on an input array and use it to sort the list of items below."
   ]
  },
  {
   "cell_type": "code",
   "execution_count": 1,
   "metadata": {},
   "outputs": [
    {
     "data": {
      "text/plain": [
       "array([9, 7, 8, 3, 0, 4, 2, 0, 7, 3, 7, 3, 9, 1, 8, 1, 0, 0, 0, 2])"
      ]
     },
     "execution_count": 1,
     "metadata": {},
     "output_type": "execute_result"
    }
   ],
   "source": [
    "import numpy as np\n",
    "items = np.random.randint(0, 10, (20,))\n",
    "items"
   ]
  },
  {
   "cell_type": "code",
   "execution_count": 2,
   "metadata": {},
   "outputs": [],
   "source": [
    "def bubblesort(items):\n",
    "    numItems = len(items)\n",
    "    isSorted = False\n",
    "    while not isSorted:\n",
    "        isSorted = True  # assume sorted unless we have to swap during this loop\n",
    "        for i in range(numItems-1):\n",
    "            if items[i+1] < items[i]:  # items out of order\n",
    "                items[i], items[i+1] = items[i+1], items[i]  # swap items\n",
    "                isSorted = False  # we swapped, so we're not sorted yet"
   ]
  },
  {
   "cell_type": "code",
   "execution_count": 3,
   "metadata": {},
   "outputs": [
    {
     "data": {
      "text/plain": [
       "array([0, 0, 0, 0, 0, 1, 1, 2, 2, 3, 3, 3, 4, 7, 7, 7, 8, 8, 9, 9])"
      ]
     },
     "execution_count": 3,
     "metadata": {},
     "output_type": "execute_result"
    }
   ],
   "source": [
    "bubblesort(items)\n",
    "items"
   ]
  },
  {
   "cell_type": "markdown",
   "metadata": {},
   "source": [
    "---\n",
    "## Insertion Sort Algorithm\n",
    "\n",
    "For each item in an list, insert it into its sorted position within all previous items.\n",
    "\n",
    "![Insertion Sort](images/insertionsort.png)"
   ]
  },
  {
   "cell_type": "markdown",
   "metadata": {},
   "source": [
    "## <font color=red>Exercise</font>"
   ]
  },
  {
   "cell_type": "markdown",
   "metadata": {},
   "source": [
    "1. Write a very brief description of how you will implement the insertion sort algorithm."
   ]
  },
  {
   "cell_type": "raw",
   "metadata": {},
   "source": [
    "For every item in list, put item in correct position within all previous items."
   ]
  },
  {
   "cell_type": "markdown",
   "metadata": {},
   "source": [
    "2. Write pseudocode for the insertion sort algorithm."
   ]
  },
  {
   "cell_type": "raw",
   "metadata": {},
   "source": [
    "FOR each item in the list\n",
    "    FOR each preceeding item in reverse order\n",
    "        IF item and preceeding item are out of order\n",
    "            swap them\n",
    "        ELSE\n",
    "            item is in order\n",
    "            break loop and go to next item\n",
    "        ENDIF\n",
    "    ENDFOR\n",
    "ENDFOR"
   ]
  },
  {
   "cell_type": "markdown",
   "metadata": {},
   "source": [
    "3. Write a function that implements the insertion sort algorithm on an input array and use it to sort the list of items below."
   ]
  },
  {
   "cell_type": "code",
   "execution_count": 1,
   "metadata": {},
   "outputs": [
    {
     "data": {
      "text/plain": [
       "array([2, 2, 4, 6, 5, 3, 2, 7, 8, 6, 9, 5, 4, 1, 2, 3, 8, 1, 1, 2])"
      ]
     },
     "execution_count": 1,
     "metadata": {},
     "output_type": "execute_result"
    }
   ],
   "source": [
    "import numpy as np\n",
    "items = np.random.randint(0, 10, (20,))\n",
    "items"
   ]
  },
  {
   "cell_type": "code",
   "execution_count": 2,
   "metadata": {},
   "outputs": [],
   "source": [
    "def insertionSort(items):\n",
    "    for i in range(1, len(items)):\n",
    "        for j in range(i, 0, -1):\n",
    "            if items[j-1] > items[j]:\n",
    "                items[j-1], items[j] = items[j], items[j-1]\n",
    "            else:\n",
    "                break"
   ]
  },
  {
   "cell_type": "code",
   "execution_count": 3,
   "metadata": {},
   "outputs": [
    {
     "data": {
      "text/plain": [
       "array([1, 1, 1, 2, 2, 2, 2, 2, 3, 3, 4, 4, 5, 5, 6, 6, 7, 8, 8, 9])"
      ]
     },
     "execution_count": 3,
     "metadata": {},
     "output_type": "execute_result"
    }
   ],
   "source": [
    "insertionSort(items)\n",
    "items"
   ]
  },
  {
   "cell_type": "code",
   "execution_count": null,
   "metadata": {},
   "outputs": [],
   "source": []
  }
 ],
 "metadata": {
  "kernelspec": {
   "display_name": "Python 3",
   "language": "python",
   "name": "python3"
  },
  "language_info": {
   "codemirror_mode": {
    "name": "ipython",
    "version": 3
   },
   "file_extension": ".py",
   "mimetype": "text/x-python",
   "name": "python",
   "nbconvert_exporter": "python",
   "pygments_lexer": "ipython3",
   "version": "3.7.5"
  }
 },
 "nbformat": 4,
 "nbformat_minor": 4
}
